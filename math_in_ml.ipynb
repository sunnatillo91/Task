{
  "cells": [
    {
      "cell_type": "markdown",
      "metadata": {
        "id": "view-in-github",
        "colab_type": "text"
      },
      "source": [
        "<a href=\"https://colab.research.google.com/github/sunnatillo91/Task/blob/main/math_in_ml.ipynb\" target=\"_parent\"><img src=\"https://colab.research.google.com/assets/colab-badge.svg\" alt=\"Open In Colab\"/></a>"
      ]
    },
    {
      "cell_type": "markdown",
      "metadata": {
        "id": "Lvd_KTmh-6zK"
      },
      "source": [
        "# Chiziqli algebra"
      ]
    },
    {
      "cell_type": "code",
      "execution_count": null,
      "metadata": {
        "id": "mDZm4Ll2-6zM"
      },
      "outputs": [],
      "source": [
        "# import numpy library\n",
        "import numpy as np"
      ]
    },
    {
      "cell_type": "markdown",
      "metadata": {
        "id": "DjeeIJIL-6zN"
      },
      "source": [
        "## Adding vectors"
      ]
    },
    {
      "cell_type": "code",
      "execution_count": null,
      "metadata": {
        "id": "76tVO4y5-6zN",
        "outputId": "32dfce55-5ec8-4c5c-892a-f8288939927b"
      },
      "outputs": [
        {
          "name": "stdout",
          "output_type": "stream",
          "text": [
            "Result of adding A vector to B vector [ 9  4 16]\n"
          ]
        }
      ],
      "source": [
        "A = [4, 8, 7]\n",
        "B = [5, -4, 9]\n",
        "\n",
        "# Adding vectors\n",
        "# C = [A[0] + B[0], A[1] + B[1], A[2] + B[2]]\n",
        "C = np.add(A, B)\n",
        "print(\"Result of adding A vector to B vector\", C)\n",
        "# C"
      ]
    },
    {
      "cell_type": "markdown",
      "metadata": {
        "id": "u5DRhCxc-6zO"
      },
      "source": [
        "## Multiplying vectors"
      ]
    },
    {
      "cell_type": "code",
      "execution_count": null,
      "metadata": {
        "id": "mhIZkx3N-6zO",
        "outputId": "f5c8a581-d5e2-421f-deb7-25f4f456eb0e"
      },
      "outputs": [
        {
          "data": {
            "text/plain": [
              "array([ 20, -32,  63])"
            ]
          },
          "execution_count": 3,
          "metadata": {},
          "output_type": "execute_result"
        }
      ],
      "source": [
        "A = [4, 8, 7]\n",
        "B = [5, -4, 9]\n",
        "\n",
        "# multiplying A vector to B vector\n",
        "res = np.multiply(A,B)\n",
        "res"
      ]
    },
    {
      "cell_type": "markdown",
      "metadata": {
        "id": "VpJPHTOC-6zP"
      },
      "source": [
        "## Matritsalar bilan ishlash"
      ]
    },
    {
      "cell_type": "code",
      "execution_count": null,
      "metadata": {
        "id": "xMoLXQ1Y-6zP",
        "outputId": "291cec60-ef5f-45e4-fb34-95eb38e47e44"
      },
      "outputs": [
        {
          "data": {
            "text/plain": [
              "array([[11, 13],\n",
              "       [ 5, 12]])"
            ]
          },
          "execution_count": 4,
          "metadata": {},
          "output_type": "execute_result"
        }
      ],
      "source": [
        "# 2 qator va 2 ustundan iborat matritsa hosil qilamiz\n",
        "\n",
        "matritsa_1 = np.array([[3, 4], [5, 6]])\n",
        "matritsa_2 = np.array([[8, 9], [0, 6]])\n",
        "\n",
        "# .add metodi yordamida mos ustun va qatorlarni qo'shamiz\n",
        "natija1 = np.add(matritsa_1, matritsa_2)\n",
        "natija1"
      ]
    },
    {
      "cell_type": "code",
      "execution_count": null,
      "metadata": {
        "id": "axFUROo3-6zP"
      },
      "outputs": [],
      "source": [
        "# .dot metodi yordamida mos ustun va qatorlarni ko'paytiramiz\n",
        "res = np.dot(matritsa_1, matritsa_2)"
      ]
    },
    {
      "cell_type": "code",
      "execution_count": null,
      "metadata": {
        "id": "msbB0IOh-6zQ",
        "outputId": "5b3f28d9-c53a-4b1f-a918-be8ae3075b22"
      },
      "outputs": [
        {
          "data": {
            "text/plain": [
              "array([[24, 51],\n",
              "       [40, 81]])"
            ]
          },
          "execution_count": 6,
          "metadata": {},
          "output_type": "execute_result"
        }
      ],
      "source": [
        "res"
      ]
    }
  ],
  "metadata": {
    "kernelspec": {
      "display_name": "base",
      "language": "python",
      "name": "python3"
    },
    "language_info": {
      "codemirror_mode": {
        "name": "ipython",
        "version": 3
      },
      "file_extension": ".py",
      "mimetype": "text/x-python",
      "name": "python",
      "nbconvert_exporter": "python",
      "pygments_lexer": "ipython3",
      "version": "3.11.5"
    },
    "colab": {
      "provenance": [],
      "include_colab_link": true
    }
  },
  "nbformat": 4,
  "nbformat_minor": 0
}